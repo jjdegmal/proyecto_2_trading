{
 "cells": [
  {
   "cell_type": "markdown",
   "id": "2c0c338e",
   "metadata": {},
   "source": [
    "<span style=\"color:darkblue; font-size: 40px;\">TECHNICAL ANALYSIS (AAPL & BTC)</span>"
   ]
  },
  {
   "cell_type": "markdown",
   "id": "8bbbf4ce",
   "metadata": {},
   "source": [
    "<span style=\"color:blue; font-size: 25px;\"> Instructions </span>"
   ]
  },
  {
   "cell_type": "markdown",
   "id": "5aa9a33b",
   "metadata": {},
   "source": [
    "Follow a Python Project structure.\n",
    "Work with a training and validation dataset to optimize & test your trading strategies using the datasets provided in the data section.\n",
    "Select 5 technical analysis indicators\n",
    "If your team has less than 3 members, use a single dataset pair, either (aapl_5m_train and aapl_5m_test) or (btc_project_train and btc_project_test), otherwise, use both dataset pairs.\n",
    "For each dataset train/test pair:\n",
    "- Define buy/sell signals for each indicator.\n",
    "- Create all possible combinations of all technical indicators (2^5 - 1).\n",
    "- Backtest the strategies while keeping track of the operations and cash/portfolio value time series, remember that we'll be opening long & short positions.\n",
    "- Measure your strategy's Sharpe Ratio (using treasury bonds as reference), Max Drawdown and Win-Loss Ratio.\n",
    "- Optimize all technical indicator's parameters (TPE, Grid Search, PSO, Genetic Algorithms, ...), stop-loss/take-profit, volume of the trade, maximizing one of the previous metrics, consider the bounds of each variable!\n",
    "- Select the optimal strategy and describe it thoroughly (what indicators are used, when is the trade signal produced, etc.).\n",
    "- Now, use the optimal strategy with the test dataset and compare it to a passive strategy.\n",
    "Present results and conclusions, including the list of the operations, candlestick charts, indicators, trading signals, cash through time, portfolio value through time, and any other chart that you consider important."
   ]
  },
  {
   "cell_type": "markdown",
   "id": "0b9bb89b",
   "metadata": {},
   "source": [
    "<span style=\"color:blue; font-size: 25px;\"> Relative Strengh Index (RSI) </span>"
   ]
  },
  {
   "cell_type": "markdown",
   "id": "7dd42798",
   "metadata": {},
   "source": [
    "The Relative Strength Index (RSI) helps traders assess market momentum and identify overbought or oversold conditions, which can signal potential price reversals. By measuring the strength and speed of price movements, RSI offers insight into whether a trend is gaining or losing momentum. It also aids in spotting divergences between price and momentum, which can indicate an upcoming trend change. Ultimately, RSI improves decision-making by providing clear signals for entry and exit points, helping traders manage risk and align their strategies with market trends."
   ]
  },
  {
   "cell_type": "markdown",
   "id": "cb94c418",
   "metadata": {},
   "source": [
    "<span style=\"color:blue; font-size: 25px;\"> Bollinger Bands (RSI) </span>"
   ]
  },
  {
   "cell_type": "markdown",
   "id": "3ad773f2",
   "metadata": {},
   "source": [
    "Bollinger Bands help traders assess market volatility and identify potential price breakouts or reversals. The bands consist of a moving average and two standard deviation lines, which expand or contract based on volatility. When prices approach the upper band, the asset may be overbought, signaling a potential pullback, while prices near the lower band suggest oversold conditions and a possible rebound. Bollinger Bands also highlight periods of low volatility, often preceding significant price moves. By offering insight into price trends and volatility, Bollinger Bands help traders make more informed decisions and manage risk effectively."
   ]
  },
  {
   "cell_type": "markdown",
   "id": "99a728f1",
   "metadata": {},
   "source": [
    "<span style=\"color:blue; font-size: 25px;\"> Moving Average Convergence Divergence (MACD)  </span>"
   ]
  },
  {
   "cell_type": "markdown",
   "id": "446c89cc",
   "metadata": {},
   "source": [
    "With this indicator traders analyze momentum and trend direction by comparing two moving averages of an asset's price. When the MACD line crosses above the signal line, it signals potential upward momentum, suggesting a buy opportunity, while a crossover below indicates a possible decline, signaling a sell. Additionally, the MACD histogram highlights the strength of the trend, with larger bars reflecting stronger momentum. By providing clear entry and exit signals and helping to identify trend shifts, the MACD supports traders in making timely, informed decisions in volatile markets."
   ]
  },
  {
   "cell_type": "markdown",
   "id": "bd7e8cb9",
   "metadata": {},
   "source": [
    "<span style=\"color:blue; font-size: 25px;\">  Commodity Channel Index (CCI)  </span>"
   ]
  },
  {
   "cell_type": "markdown",
   "id": "a4fdc281",
   "metadata": {},
   "source": [
    "This indicator identifies cyclical trends and potential reversals in asset prices by measuring the deviation from the asset’s average price. A high positive CCI value indicates the asset may be overbought, signaling a possible price correction, while a low negative value suggests oversold conditions, pointing to a potential rebound. CCI is especially useful for spotting overextensions in price movement and timing entries and exits in trending or volatile markets. By offering insight into market extremes and momentum shifts, CCI supports more strategic, data-driven decisions."
   ]
  },
  {
   "cell_type": "markdown",
   "id": "68c5c61f",
   "metadata": {},
   "source": [
    "<span style=\"color:blue; font-size: 25px;\"> Stochastic Oscillator </span>"
   ]
  },
  {
   "cell_type": "markdown",
   "id": "66117786",
   "metadata": {},
   "source": [
    "This Oscillator plays a key role in finance by indicating potential price reversals through the comparison of an asset's closing price with its price range over a set period. It signals overbought conditions when it rises above 80, suggesting a possible downturn, and oversold conditions when it drops below 20, indicating a potential price increase. This tool is valuable for detecting momentum changes and trend reversals, making it useful for analyzing both stable and volatile markets, ultimately aiding in better decision-making around market movements."
   ]
  },
  {
   "cell_type": "markdown",
   "id": "bf805eb3",
   "metadata": {},
   "source": [
    "<span style=\"color:darkblue; font-size: 30px;\">APPLE (AAPL)</span> \n",
    "<img src=\"aapl.jpg\" width=\"50\" style=\"float: right; vertical-align: middle;\"/>\n"
   ]
  },
  {
   "cell_type": "markdown",
   "id": "6826445a",
   "metadata": {},
   "source": [
    "<span style=\"color:blue; font-size: 25px;\">Best Combination</span>"
   ]
  },
  {
   "cell_type": "markdown",
   "id": "d96bd27f",
   "metadata": {},
   "source": [
    "The best combination chosen between the 31 combinations for **AAPL** is the one with **RSI, Bollinger, MACD** and **Stochastic**, obtaining the next results:\n",
    "- Sharpe Ratio of **0.6114**\n",
    "- Final Amount of **$1119047.6794**"
   ]
  },
  {
   "cell_type": "markdown",
   "id": "6c4178f3",
   "metadata": {},
   "source": [
    "<span style=\"color:blue; font-size: 25px;\">Operation List</span>"
   ]
  },
  {
   "cell_type": "code",
   "execution_count": null,
   "id": "ebc3163c",
   "metadata": {},
   "outputs": [],
   "source": [
    "Optimizando para la combinación: ('RSI', 'Bollinger', 'MACD', 'Stochastic')\n",
    "\n",
    "Trial 0 finished with value: -3.233376732162833 and parameters: {'stop_loss': 0.04344356047993852, 'take_profit': 0.09520470150740734, 'n_shares': 32, 'rsi_window': 8, 'rsi_lower': 20.325411985506122, 'rsi_upper': 76.27319520416799, 'bollinger_window': 19, 'bollinger_stddev': 2.387937728132194, 'macd_fast': 24, 'macd_slow': 43, 'macd_signal': 18, 'stochastic_k': 6, 'stochastic_d': 3}. Best is trial 0 with value: -3.233376732162833.\n",
    "Valor Portafolio: 921633.6493890727\n",
    "\n",
    "Trial 1 finished with value: -2.4258273717464927 and parameters: {'stop_loss': 0.07601896389518764, 'take_profit': 0.1775629555290408, 'n_shares': 32, 'rsi_window': 20, 'rsi_lower': 48.82037634814739, 'rsi_upper': 74.04804611574183, 'bollinger_window': 10, 'bollinger_stddev': 3.454549583553226, 'macd_fast': 16, 'macd_slow': 44, 'macd_signal': 18, 'stochastic_k': 13, 'stochastic_d': 12}. Best is trial 1 with value: -2.4258273717464927.\n",
    "Valor Portafolio: 984132.0225429138\n",
    "\n",
    "Trial 2 finished with value: -0.1473923631574875 and parameters: {'stop_loss': 0.08463071608227746, 'take_profit': 0.06917063902601588, 'n_shares': 89, 'rsi_window': 15, 'rsi_lower': 29.791452806323356, 'rsi_upper': 64.74367117167886, 'bollinger_window': 23, 'bollinger_stddev': 1.8177525846658633, 'macd_fast': 13, 'macd_slow': 50, 'macd_signal': 11, 'stochastic_k': 18, 'stochastic_d': 8}. Best is trial 2 with value: -0.1473923631574875.\n",
    "Valor Portafolio: 1027927.571293323\n",
    "\n",
    "Trial 3 finished with value: -2.0059730779157747 and parameters: {'stop_loss': 0.04616599022110304, 'take_profit': 0.07405850359659237, 'n_shares': 56, 'rsi_window': 7, 'rsi_lower': 29.361160703027466, 'rsi_upper': 59.54488277125174, 'bollinger_window': 21, 'bollinger_stddev': 2.6081672293023446, 'macd_fast': 15, 'macd_slow': 29, 'macd_signal': 16, 'stochastic_k': 14, 'stochastic_d': 7}. Best is trial 2 with value: -0.1473923631574875.\n",
    "Valor Portafolio: 861924.5726258524\n",
    "\n",
    "Trial 4 finished with value: -1.266930446156741 and parameters: {'stop_loss': 0.07876961153055419, 'take_profit': 0.08303958259640658, 'n_shares': 46, 'rsi_window': 16, 'rsi_lower': 21.547634565417667, 'rsi_upper': 53.82064696760496, 'bollinger_window': 29, 'bollinger_stddev': 2.9654345592750975, 'macd_fast': 18, 'macd_slow': 34, 'macd_signal': 12, 'stochastic_k': 9, 'stochastic_d': 14}. Best is trial 2 with value: -0.1473923631574875.\n",
    "Valor Portafolio: 979285.2063478465\n",
    "\n",
    "Trial 5 finished with value: 0.06255357954678922 and parameters: {'stop_loss': 0.0822771971748816, 'take_profit': 0.09246519376176521, 'n_shares': 88, 'rsi_window': 21, 'rsi_lower': 29.060699425824488, 'rsi_upper': 51.46380562449536, 'bollinger_window': 27, 'bollinger_stddev': 3.1493377183801, 'macd_fast': 15, 'macd_slow': 28, 'macd_signal': 15, 'stochastic_k': 5, 'stochastic_d': 11}. Best is trial 5 with value: 0.06255357954678922.\n",
    "Valor Portafolio: 1107549.0639186758\n",
    "\n",
    "Trial 6 finished with value: -2.267638143048678 and parameters: {'stop_loss': 0.027166142713500978, 'take_profit': 0.14055958997681728, 'n_shares': 50, 'rsi_window': 24, 'rsi_lower': 29.194899200990797, 'rsi_upper': 60.43988592387533, 'bollinger_window': 29, 'bollinger_stddev': 3.3076272672971534, 'macd_fast': 26, 'macd_slow': 34, 'macd_signal': 13, 'stochastic_k': 16, 'stochastic_d': 7}. Best is trial 5 with value: 0.06255357954678922.\n",
    "Valor Portafolio: 802896.1625907448\n",
    "\n",
    "Trial 7 finished with value: -0.5929726225014669 and parameters: {'stop_loss': 0.08061120503171239, 'take_profit': 0.07930381003992275, 'n_shares': 64, 'rsi_window': 12, 'rsi_lower': 32.41040121065074, 'rsi_upper': 69.3095916932071, 'bollinger_window': 22, 'bollinger_stddev': 1.6743520537916192, 'macd_fast': 25, 'macd_slow': 27, 'macd_signal': 9, 'stochastic_k': 15, 'stochastic_d': 9}. Best is trial 5 with value: 0.06255357954678922.\n",
    "Valor Portafolio: 1040856.5536390451\n",
    "\n",
    "Trial 8 finished with value: -2.6678704503159354 and parameters: {'stop_loss': 0.07472064210828851, 'take_profit': 0.13221652046920365, 'n_shares': 26, 'rsi_window': 13, 'rsi_lower': 45.937685753273584, 'rsi_upper': 68.629082588663, 'bollinger_window': 34, 'bollinger_stddev': 2.610620227945539, 'macd_fast': 24, 'macd_slow': 45, 'macd_signal': 9, 'stochastic_k': 13, 'stochastic_d': 10}. Best is trial 5 with value: 0.06255357954678922.\n",
    "Valor Portafolio: 1008794.3427193444\n",
    "\n",
    "Trial 9 finished with value: -0.36930097342349294 and parameters: {'stop_loss': 0.052492747997652876, 'take_profit': 0.059650047298319596, 'n_shares': 97, 'rsi_window': 20, 'rsi_lower': 37.2042071688419, 'rsi_upper': 69.13510272942187, 'bollinger_window': 48, 'bollinger_stddev': 3.0568783810595734, 'macd_fast': 20, 'macd_slow': 27, 'macd_signal': 9, 'stochastic_k': 17, 'stochastic_d': 13}. Best is trial 5 with value: 0.06255357954678922.\n",
    "Valor Portafolio: 942604.7055187072\n",
    "\n",
    "Trial 10 finished with value: -0.9297126939077042 and parameters: {'stop_loss': 0.09328506398441279, 'take_profit': 0.015407325731011723, 'n_shares': 77, 'rsi_window': 29, 'rsi_lower': 39.420691723988355, 'rsi_upper': 51.413316423632914, 'bollinger_window': 42, 'bollinger_stddev': 2.191730307607684, 'macd_fast': 12, 'macd_slow': 34, 'macd_signal': 15, 'stochastic_k': 5, 'stochastic_d': 4}. Best is trial 5 with value: 0.06255357954678922.\n",
    "Valor Portafolio: 651845.411986458\n",
    "\n",
    "Trial 11 finished with value: -0.47732042820688125 and parameters: {'stop_loss': 0.0999681633391454, 'take_profit': 0.03355170945505129, 'n_shares': 98, 'rsi_window': 25, 'rsi_lower': 27.04397408310158, 'rsi_upper': 58.64804415173597, 'bollinger_window': 36, 'bollinger_stddev': 1.5440245433316153, 'macd_fast': 12, 'macd_slow': 48, 'macd_signal': 11, 'stochastic_k': 19, 'stochastic_d': 11}. Best is trial 5 with value: 0.06255357954678922.\n",
    "Valor Portafolio: 822882.8052957499\n",
    "\n",
    "Trial 12 finished with value: -0.8340609132141648 and parameters: {'stop_loss': 0.06500542824951432, 'take_profit': 0.11693037337914709, 'n_shares': 78, 'rsi_window': 17, 'rsi_lower': 24.190688193752692, 'rsi_upper': 79.7688508339352, 'bollinger_window': 13, 'bollinger_stddev': 1.9143892287101898, 'macd_fast': 15, 'macd_slow': 39, 'macd_signal': 15, 'stochastic_k': 9, 'stochastic_d': 7}. Best is trial 5 with value: 0.06255357954678922.\n",
    "Valor Portafolio: 923622.6519868004\n",
    "\n",
    "Trial 13 finished with value: -3.017445902527993 and parameters: {'stop_loss': 0.012293056258686007, 'take_profit': 0.04892670512911452, 'n_shares': 82, 'rsi_window': 23, 'rsi_lower': 33.77948290593643, 'rsi_upper': 64.48141752299556, 'bollinger_window': 24, 'bollinger_stddev': 2.1072679645570136, 'macd_fast': 14, 'macd_slow': 38, 'macd_signal': 11, 'stochastic_k': 20, 'stochastic_d': 9}. Best is trial 5 with value: 0.06255357954678922.\n",
    "Valor Portafolio: 465791.6977476669\n",
    "\n",
    "Trial 14 finished with value: -1.1720204513434385 and parameters: {'stop_loss': 0.08747314337519588, 'take_profit': 0.15678299015476083, 'n_shares': 88, 'rsi_window': 12, 'rsi_lower': 41.848129056186124, 'rsi_upper': 54.92342248710012, 'bollinger_window': 15, 'bollinger_stddev': 2.9247075286524704, 'macd_fast': 18, 'macd_slow': 49, 'macd_signal': 14, 'stochastic_k': 10, 'stochastic_d': 6}. Best is trial 5 with value: 0.06255357954678922.\n",
    "Valor Portafolio: 598570.4173044291\n",
    "\n",
    "Trial 15 finished with value: -5.414850785251854 and parameters: {'stop_loss': 0.06398287008497903, 'take_profit': 0.10960187554716377, 'n_shares': 12, 'rsi_window': 15, 'rsi_lower': 25.678817605567467, 'rsi_upper': 64.55521200463937, 'bollinger_window': 26, 'bollinger_stddev': 1.8194547586844858, 'macd_fast': 20, 'macd_slow': 39, 'macd_signal': 11, 'stochastic_k': 11, 'stochastic_d': 11}. Best is trial 5 with value: 0.06255357954678922.\n",
    "Valor Portafolio: 1012664.847093131\n",
    "\n",
    "Trial 16 finished with value: -0.7338225758013909 and parameters: {'stop_loss': 0.06534780901882802, 'take_profit': 0.04250666895134468, 'n_shares': 65, 'rsi_window': 20, 'rsi_lower': 32.211292778946756, 'rsi_upper': 50.08328086968258, 'bollinger_window': 37, 'bollinger_stddev': 2.7943860131455125, 'macd_fast': 13, 'macd_slow': 30, 'macd_signal': 16, 'stochastic_k': 7, 'stochastic_d': 10}. Best is trial 5 with value: 0.06255357954678922.\n",
    "Valor Portafolio: 887741.9476983253\n",
    "\n",
    "Trial 17 finished with value: -0.5672976194772443 and parameters: {'stop_loss': 0.09984174848957904, 'take_profit': 0.19579642938782407, 'n_shares': 69, 'rsi_window': 29, 'rsi_lower': 29.589736267451414, 'rsi_upper': 56.19299041149511, 'bollinger_window': 17, 'bollinger_stddev': 3.2043033013265085, 'macd_fast': 16, 'macd_slow': 31, 'macd_signal': 13, 'stochastic_k': 18, 'stochastic_d': 5}. Best is trial 5 with value: 0.06255357954678922.\n",
    "Valor Portafolio: 911866.0711232027\n",
    "\n",
    "Trial 18 finished with value: -0.47636031553995434 and parameters: {'stop_loss': 0.08848548616124756, 'take_profit': 0.06506977784428761, 'n_shares': 92, 'rsi_window': 5, 'rsi_lower': 36.44281892545618, 'rsi_upper': 62.92099823484404, 'bollinger_window': 33, 'bollinger_stddev': 2.315642272081863, 'macd_fast': 17, 'macd_slow': 41, 'macd_signal': 12, 'stochastic_k': 7, 'stochastic_d': 8}. Best is trial 5 with value: 0.06255357954678922.\n",
    "Valor Portafolio: 960417.7396083559\n",
    "\n",
    "Trial 19 finished with value: -19.99214260033114 and parameters: {'stop_loss': 0.03433599336417114, 'take_profit': 0.10697537687719741, 'n_shares': 3, 'rsi_window': 9, 'rsi_lower': 23.109850803855217, 'rsi_upper': 72.6027393059352, 'bollinger_window': 41, 'bollinger_stddev': 2.0487768758753075, 'macd_fast': 22, 'macd_slow': 50, 'macd_signal': 17, 'stochastic_k': 11, 'stochastic_d': 12}. Best is trial 5 with value: 0.06255357954678922.\n",
    "Valor Portafolio: 990873.9227723664\n",
    "\n",
    "Trial 20 finished with value: -1.0371621870174133 and parameters: {'stop_loss': 0.059634377537173607, 'take_profit': 0.010566459154554717, 'n_shares': 86, 'rsi_window': 26, 'rsi_lower': 26.98853443104409, 'rsi_upper': 53.28262479842728, 'bollinger_window': 26, 'bollinger_stddev': 2.7157677521645835, 'macd_fast': 14, 'macd_slow': 47, 'macd_signal': 14, 'stochastic_k': 16, 'stochastic_d': 14}. Best is trial 5 with value: 0.06255357954678922.\n",
    "Valor Portafolio: 465686.4755276224\n",
    "\n",
    "Trial 21 finished with value: -0.2804074225188191 and parameters: {'stop_loss': 0.050979238247028366, 'take_profit': 0.05958212408237747, 'n_shares': 100, 'rsi_window': 20, 'rsi_lower': 36.90398212475596, 'rsi_upper': 68.37647741448767, 'bollinger_window': 31, 'bollinger_stddev': 3.1202709458147035, 'macd_fast': 20, 'macd_slow': 26, 'macd_signal': 10, 'stochastic_k': 17, 'stochastic_d': 13}. Best is trial 5 with value: 0.06255357954678922.\n",
    "Valor Portafolio: 969750.9016885087\n",
    "\n",
    "Trial 22 finished with value: 0.7180099600905041 and parameters: {'stop_loss': 0.0710192247297195, 'take_profit': 0.09129317913891741, 'n_shares': 99, 'rsi_window': 22, 'rsi_lower': 40.99908412613043, 'rsi_upper': 71.47989613827707, 'bollinger_window': 30, 'bollinger_stddev': 3.174211882590929, 'macd_fast': 21, 'macd_slow': 32, 'macd_signal': 10, 'stochastic_k': 20, 'stochastic_d': 12}. Best is trial 22 with value: 0.7180099600905041.\n",
    "Valor Portafolio: 1353859.0638127218\n",
    "\n",
    "Trial 23 finished with value: -0.2712340605120532 and parameters: {'stop_loss': 0.0714238403576451, 'take_profit': 0.12476886739387485, 'n_shares': 72, 'rsi_window': 22, 'rsi_lower': 41.87700937028654, 'rsi_upper': 73.32987709665463, 'bollinger_window': 27, 'bollinger_stddev': 3.3979732272575567, 'macd_fast': 22, 'macd_slow': 32, 'macd_signal': 10, 'stochastic_k': 20, 'stochastic_d': 10}. Best is trial 22 with value: 0.7180099600905041.\n",
    "Valor Portafolio: 1021919.3198119894\n",
    "\n",
    "Trial 24 finished with value: 0.4370259512968801 and parameters: {'stop_loss': 0.08369478470927418, 'take_profit': 0.09391677282449049, 'n_shares': 86, 'rsi_window': 18, 'rsi_lower': 44.04085297922724, 'rsi_upper': 78.76008704261716, 'bollinger_window': 23, 'bollinger_stddev': 2.8718306147694697, 'macd_fast': 22, 'macd_slow': 36, 'macd_signal': 12, 'stochastic_k': 19, 'stochastic_d': 11}. Best is trial 22 with value: 0.7180099600905041.\n",
    "Valor Portafolio: 1243165.9608954152\n",
    "\n",
    "Trial 25 finished with value: 1.4801598202965938 and parameters: {'stop_loss': 0.07068823373977036, 'take_profit': 0.08903648030896634, 'n_shares': 81, 'rsi_window': 18, 'rsi_lower': 44.89495682399357, 'rsi_upper': 78.91520322300588, 'bollinger_window': 19, 'bollinger_stddev': 3.2235833210050147, 'macd_fast': 22, 'macd_slow': 36, 'macd_signal': 12, 'stochastic_k': 20, 'stochastic_d': 12}. Best is trial 25 with value: 1.4801598202965938.\n",
    "Valor Portafolio: 1496607.9190133228\n",
    "\n",
    "Trial 26 finished with value: -0.033301893770403906 and parameters: {'stop_loss': 0.06835469708236273, 'take_profit': 0.0932490026346887, 'n_shares': 59, 'rsi_window': 18, 'rsi_lower': 46.22366944784184, 'rsi_upper': 79.24285285646634, 'bollinger_window': 19, 'bollinger_stddev': 2.849037038971627, 'macd_fast': 22, 'macd_slow': 36, 'macd_signal': 12, 'stochastic_k': 20, 'stochastic_d': 12}. Best is trial 25 with value: 1.4801598202965938.\n",
    "Valor Portafolio: 1096315.1585053578\n",
    "\n",
    "Trial 27 finished with value: -0.27405999585694263 and parameters: {'stop_loss': 0.05730043080051109, 'take_profit': 0.1485923510256087, 'n_shares': 82, 'rsi_window': 18, 'rsi_lower': 43.98381062999405, 'rsi_upper': 76.17671499193816, 'bollinger_window': 11, 'bollinger_stddev': 3.2700273047842825, 'macd_fast': 23, 'macd_slow': 36, 'macd_signal': 10, 'stochastic_k': 19, 'stochastic_d': 13}. Best is trial 25 with value: 1.4801598202965938.\n",
    "Valor Portafolio: 942104.7200187605\n",
    "\n",
    "Trial 28 finished with value: 0.5153247736527214 and parameters: {'stop_loss': 0.09318199402078046, 'take_profit': 0.09907560943841263, 'n_shares': 74, 'rsi_window': 27, 'rsi_lower': 49.60512460295247, 'rsi_upper': 77.1704291277211, 'bollinger_window': 16, 'bollinger_stddev': 2.9905002598152537, 'macd_fast': 21, 'macd_slow': 36, 'macd_signal': 13, 'stochastic_k': 18, 'stochastic_d': 12}. Best is trial 25 with value: 1.4801598202965938.\n",
    "Valor Portafolio: 1210481.6288163597\n",
    "\n",
    "Trial 29 finished with value: 0.038248608560211214 and parameters: {'stop_loss': 0.09234123581730652, 'take_profit': 0.1218113682988177, 'n_shares': 74, 'rsi_window': 26, 'rsi_lower': 49.75404565205292, 'rsi_upper': 75.44830505977319, 'bollinger_window': 18, 'bollinger_stddev': 3.492654267237678, 'macd_fast': 21, 'macd_slow': 32, 'macd_signal': 13, 'stochastic_k': 18, 'stochastic_d': 14}. Best is trial 25 with value: 1.4801598202965938.\n",
    "Valor Portafolio: 1102572.4631749261"
   ]
  },
  {
   "cell_type": "markdown",
   "id": "ef9ce39e",
   "metadata": {},
   "source": [
    "<span style=\"color:blue; font-size: 25px;\">Candlestick Charts</span>"
   ]
  },
  {
   "cell_type": "markdown",
   "id": "79090c94",
   "metadata": {},
   "source": [
    "<img src=\"velas aapl.png\" width=\"800\"/>"
   ]
  },
  {
   "cell_type": "markdown",
   "id": "b8469edf",
   "metadata": {},
   "source": [
    "<span style=\"color:blue; font-size: 25px;\">Trading Signals</span>"
   ]
  },
  {
   "cell_type": "markdown",
   "id": "65ea40f6",
   "metadata": {},
   "source": [
    "<img src=\"signals aapl.png\" width=\"800\"/>"
   ]
  },
  {
   "cell_type": "markdown",
   "id": "25f815d8",
   "metadata": {},
   "source": [
    "<span style=\"color:blue; font-size: 25px;\"> Pasive Strategy and Portfolio Value Through Time</span>"
   ]
  },
  {
   "cell_type": "markdown",
   "id": "7b333547",
   "metadata": {},
   "source": [
    "This strategy consist in what would happen if we keep our shares all the time. We are going to see what was better, keeping the money or doing our own strategy (RSI, Bollinger, MACD, Stochastic)"
   ]
  },
  {
   "cell_type": "markdown",
   "id": "ac8c96fe",
   "metadata": {},
   "source": [
    "<img src=\"passive aapl.jpg\" width=\"800\"/>"
   ]
  },
  {
   "cell_type": "markdown",
   "id": "0fe05f39",
   "metadata": {},
   "source": [
    "<span style=\"color:blue; font-size: 25px;\">Analysis</span>"
   ]
  },
  {
   "cell_type": "markdown",
   "id": "0a4ca5d2",
   "metadata": {},
   "source": [
    "The comparison between the active strategy using RSI, Bollinger Bands, MACD, and Stochastic indicators and the passive buy-and-hold strategy reveals that the passive approach significantly outperformed the active one. While the passive strategy showed steady portfolio growth, the indicator-based strategy yielded flatter results and occasional declines, likely due to frequent trading and poorly timed trades. Overtrading and market noise affected the active strategy’s performance, whereas the passive approach successfully captured the overall upward trend in Apple's stock, proving more effective during this period."
   ]
  },
  {
   "cell_type": "markdown",
   "id": "631169dc",
   "metadata": {},
   "source": [
    "<span style=\"color:darkblue; font-size: 30px;\">BitCoin (BTC)</span> \n",
    "<img src=\"BTC.jpg\" width=\"80\" style=\"float: right; vertical-align: middle;\"/>"
   ]
  },
  {
   "cell_type": "markdown",
   "id": "ef14f304",
   "metadata": {},
   "source": [
    "<span style=\"color:blue; font-size: 25px;\">Best Combination</span>"
   ]
  },
  {
   "cell_type": "markdown",
   "id": "4b9a0970",
   "metadata": {},
   "source": [
    "The best combination chosen between the 31 combinations for **BTC** is the one with **RSI** and **Bollinger**, obtaining the next results:\n",
    "- Sharpe Ratio of **-0.7323**\n",
    "- Final Amount of **$1,069,719.25**"
   ]
  },
  {
   "cell_type": "markdown",
   "id": "ebefd882",
   "metadata": {},
   "source": [
    "<span style=\"color:blue; font-size: 25px;\">Operation List</span>"
   ]
  },
  {
   "cell_type": "code",
   "execution_count": null,
   "id": "e197242b",
   "metadata": {},
   "outputs": [],
   "source": [
    "Trial 0 finished with value: -10.697528895666586 and parameters: {'stop_loss': 0.015966313803198816, 'take_profit': 0.011463167564604254, 'n_shares': 6.823674517496292, 'rsi_window': 7, 'rsi_lower': 29.64643975919909, 'rsi_upper': 70.1202012949383, 'bollinger_window': 46, 'bollinger_stddev': 3.000369913886883}. Best is trial 0 with value: -10.697528895666586.\n",
    "Portfolio Value: 977183.7174214615\n",
    "\n",
    "Trial 1 finished with value: -12.23777665981805 and parameters: {'stop_loss': 0.005932792177890941, 'take_profit': 0.05108710811763403, 'n_shares': 9.667267419521796, 'rsi_window': 25, 'rsi_lower': 41.15520273520335, 'rsi_upper': 54.11879325727697, 'bollinger_window': 13, 'bollinger_stddev': 2.509970565743347}. Best is trial 0 with value: -10.697528895666586.\n",
    "Portfolio Value: 984628.8375258925\n",
    "\n",
    "Trial 2 finished with value: -3.8163635451245264 and parameters: {'stop_loss': 0.015706528597022238, 'take_profit': 0.06528747227116175, 'n_shares': 11.009199816295622, 'rsi_window': 11, 'rsi_lower': 21.63573619391894, 'rsi_upper': 77.3056752570048, 'bollinger_window': 39, 'bollinger_stddev': 3.399599110989028}. Best is trial 2 with value: -3.8163635451245264.\n",
    "Portfolio Value: 973271.7842915424\n",
    "\n",
    "Trial 3 finished with value: -0.7323287168488347 and parameters: {'stop_loss': 0.019955836244894196, 'take_profit': 0.0661210154521738, 'n_shares': 4.282585368364448, 'rsi_window': 28, 'rsi_lower': 28.079824255285473, 'rsi_upper': 50.79630602974881, 'bollinger_window': 50, 'bollinger_stddev': 2.6409629222723563}. Best is trial 3 with value: -0.7323287168488347.\n",
    "Portfolio Value: 1069719.2476522168\n",
    "\n",
    "Trial 4 finished with value: -3.8646250038848526 and parameters: {'stop_loss': 0.006964907515254868, 'take_profit': 0.07340293581382114, 'n_shares': 7.82770732587657, 'rsi_window': 15, 'rsi_lower': 43.02821674848162, 'rsi_upper': 72.0518769479426, 'bollinger_window': 21, 'bollinger_stddev': 3.3254947429174533}. Best is trial 3 with value: -0.7323287168488347.\n",
    "Portfolio Value: 941276.9033426389\n",
    "\n",
    "Trial 5 finished with value: -6.672951376005149 and parameters: {'stop_loss': 0.010809367568350041, 'take_profit': 0.020837756233758806, 'n_shares': 14.20926855764068, 'rsi_window': 21, 'rsi_lower': 27.130650083138207, 'rsi_upper': 72.70691088051579, 'bollinger_window': 22, 'bollinger_stddev': 2.8768790937308393}. Best is trial 3 with value: -0.7323287168488347.\n",
    "Portfolio Value: 848233.426029161\n",
    "\n",
    "Trial 6 finished with value: -11.73430939524339 and parameters: {'stop_loss': 0.0050809554909262925, 'take_profit': 0.07121177733561423, 'n_shares': 2.3133007401466554, 'rsi_window': 16, 'rsi_lower': 41.20408669590766, 'rsi_upper': 79.7610859869125, 'bollinger_window': 23, 'bollinger_stddev': 1.7460688993257611}. Best is trial 3 with value: -0.7323287168488347.\n",
    "Portfolio Value: 980253.2962537626\n",
    "\n",
    "Trial 7 finished with value: -2.2007798108679206 and parameters: {'stop_loss': 0.018105680480271908, 'take_profit': 0.017981413451476403, 'n_shares': 7.500285144919081, 'rsi_window': 13, 'rsi_lower': 42.37104401457762, 'rsi_upper': 78.70914293173257, 'bollinger_window': 10, 'bollinger_stddev': 2.603061840997878}. Best is trial 3 with value: -0.7323287168488347.\n",
    "Portfolio Value: 702049.5362718297\n",
    "\n",
    "Trial 8 finished with value: -2.211719745341173 and parameters: {'stop_loss': 0.019773343569089306, 'take_profit': 0.06263262197045937, 'n_shares': 14.074140669892175, 'rsi_window': 16, 'rsi_lower': 32.38203186300736, 'rsi_upper': 66.01322491075138, 'bollinger_window': 21, 'bollinger_stddev': 2.418732588727952}. Best is trial 3 with value: -0.7323287168488347.\n",
    "Portfolio Value: 951271.7061844664\n",
    "\n",
    "Trial 9 finished with value: -4.945156620987064 and parameters: {'stop_loss': 0.01480061653975993, 'take_profit': 0.026723360684396194, 'n_shares': 16.92842725244544, 'rsi_window': 30, 'rsi_lower': 45.910340703991096, 'rsi_upper': 69.3603113538476, 'bollinger_window': 16, 'bollinger_stddev': 3.3441103389988145}. Best is trial 3 with value: -0.7323287168488347.\n",
    "Portfolio Value: 970998.7798731846\n",
    "\n",
    "Trial 10 finished with value: -1.4961779813614675 and parameters: {'stop_loss': 0.011153296839216328, 'take_profit': 0.09955990382734839, 'n_shares': 0.9272977850679105, 'rsi_window': 30, 'rsi_lower': 20.38499423384779, 'rsi_upper': 51.132016823244555, 'bollinger_window': 34, 'bollinger_stddev': 2.0512331725797748}. Best is trial 3 with value: -0.7323287168488347.\n",
    "Portfolio Value: 1036453.7338491401\n",
    "\n",
    "Trial 11 finished with value: -1.7216085177180211 and parameters: {'stop_loss': 0.010154749980885672, 'take_profit': 0.09348810842492808, 'n_shares': 0.1429903335660203, 'rsi_window': 30, 'rsi_lower': 20.23090413601108, 'rsi_upper': 50.011841238212654, 'bollinger_window': 35, 'bollinger_stddev': 1.9367313876797327}. Best is trial 3 with value: -0.7323287168488347.\n",
    "Portfolio Value: 883480.1441491216"
   ]
  },
  {
   "cell_type": "markdown",
   "id": "ec8375fe",
   "metadata": {},
   "source": [
    "<span style=\"color:blue; font-size: 25px;\">Candlestick Charts</span>"
   ]
  },
  {
   "cell_type": "markdown",
   "id": "e8de8d8e",
   "metadata": {},
   "source": [
    "<img src=\"velas BTC.png\" width=\"800\"/>"
   ]
  },
  {
   "cell_type": "markdown",
   "id": "78c5975b",
   "metadata": {},
   "source": [
    "<span style=\"color:blue; font-size: 25px;\">Trading Signals</span>"
   ]
  },
  {
   "cell_type": "markdown",
   "id": "2826448c",
   "metadata": {},
   "source": [
    "<img src=\"signals btc.png\" width=\"500\"/>"
   ]
  },
  {
   "cell_type": "markdown",
   "id": "4659fbf6",
   "metadata": {},
   "source": [
    "<span style=\"color:blue; font-size: 25px;\">Portfolio Value Through Time</span>"
   ]
  },
  {
   "cell_type": "markdown",
   "id": "5915cd08",
   "metadata": {},
   "source": [
    "<img src=\"portfolio btc.png\" width=\"800\"/>"
   ]
  },
  {
   "cell_type": "markdown",
   "id": "1d51f748",
   "metadata": {},
   "source": [
    "<span style=\"color:blue; font-size: 25px;\"> Cash Through Time</span>"
   ]
  },
  {
   "cell_type": "markdown",
   "id": "d157be1a",
   "metadata": {},
   "source": [
    "<img src=\"cash btc.png\" width=\"800\"/>"
   ]
  },
  {
   "cell_type": "markdown",
   "id": "9333d0a1",
   "metadata": {},
   "source": [
    "<span style=\"color:blue; font-size: 25px;\"> Passive Strategy </span>"
   ]
  },
  {
   "cell_type": "markdown",
   "id": "b799dbab",
   "metadata": {},
   "source": [
    "<img src=\"passivebtc.png\" width=\"800\"/>"
   ]
  },
  {
   "cell_type": "markdown",
   "id": "6f64361d",
   "metadata": {},
   "source": [
    "<span style=\"color:blue; font-size: 25px;\"> Analysis </span>"
   ]
  },
  {
   "cell_type": "markdown",
   "id": "94e995ff",
   "metadata": {},
   "source": [
    "The analysis of Bitcoin trading strategies shows that the RSI and Bollinger Bands approach underperformed compared to a passive strategy during a volatile period in May. While the passive strategy maintained stable growth, the active strategy experienced significant fluctuations and inconsistent results across trials. Frequent buy/sell signals were triggered during moments of market volatility, contributing to the erratic portfolio performance. Overall, the passive strategy proved more reliable, while the active approach struggled under certain market conditions."
   ]
  }
 ],
 "metadata": {
  "kernelspec": {
   "display_name": "Python 3 (ipykernel)",
   "language": "python",
   "name": "python3"
  },
  "language_info": {
   "codemirror_mode": {
    "name": "ipython",
    "version": 3
   },
   "file_extension": ".py",
   "mimetype": "text/x-python",
   "name": "python",
   "nbconvert_exporter": "python",
   "pygments_lexer": "ipython3",
   "version": "3.11.4"
  }
 },
 "nbformat": 4,
 "nbformat_minor": 5
}
